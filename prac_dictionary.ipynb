{
 "cells": [
  {
   "cell_type": "code",
   "execution_count": 3,
   "id": "bd147af5-63c2-48a0-bedf-aa885d5d7f1e",
   "metadata": {},
   "outputs": [],
   "source": [
    "d1 = {  'name': 'arc' , 'class': 'DA4' }"
   ]
  },
  {
   "cell_type": "code",
   "execution_count": 4,
   "id": "31a67a52-9cce-4b3e-9f1b-42363e78156a",
   "metadata": {},
   "outputs": [
    {
     "data": {
      "text/plain": [
       "{'name': 'arc', 'class': 'DA4'}"
      ]
     },
     "execution_count": 4,
     "metadata": {},
     "output_type": "execute_result"
    }
   ],
   "source": [
    "d1"
   ]
  },
  {
   "cell_type": "code",
   "execution_count": 5,
   "id": "f7ce88c6-0a04-49cd-a008-7b73760f523f",
   "metadata": {},
   "outputs": [],
   "source": [
    "da6Name = 'DA 6 CLASS'\n",
    "timing = '8:30'"
   ]
  },
  {
   "cell_type": "code",
   "execution_count": 6,
   "id": "5d6bcca6-005a-4b59-810d-7dcedac92028",
   "metadata": {},
   "outputs": [],
   "source": [
    "d2 = {'name':da6Name, 'time':timing}"
   ]
  },
  {
   "cell_type": "code",
   "execution_count": 7,
   "id": "087bf8d9-9c16-4a13-a2ef-db68d1bf5b79",
   "metadata": {},
   "outputs": [
    {
     "data": {
      "text/plain": [
       "{'name': 'DA 6 CLASS', 'time': '8:30'}"
      ]
     },
     "execution_count": 7,
     "metadata": {},
     "output_type": "execute_result"
    }
   ],
   "source": [
    "d2"
   ]
  },
  {
   "cell_type": "code",
   "execution_count": 8,
   "id": "44a218d2-12be-413d-8c1a-1f20eff6cd95",
   "metadata": {},
   "outputs": [
    {
     "data": {
      "text/plain": [
       "dict"
      ]
     },
     "execution_count": 8,
     "metadata": {},
     "output_type": "execute_result"
    }
   ],
   "source": [
    "type(d2)"
   ]
  },
  {
   "cell_type": "code",
   "execution_count": 17,
   "id": "817ce89e-0651-4fda-9c80-ae2c9757571c",
   "metadata": {},
   "outputs": [
    {
     "ename": "KeyError",
     "evalue": "('name', 'time')",
     "output_type": "error",
     "traceback": [
      "\u001b[1;31m---------------------------------------------------------------------------\u001b[0m",
      "\u001b[1;31mKeyError\u001b[0m                                  Traceback (most recent call last)",
      "Cell \u001b[1;32mIn[17], line 1\u001b[0m\n\u001b[1;32m----> 1\u001b[0m d2[\u001b[38;5;124m'\u001b[39m\u001b[38;5;124mname\u001b[39m\u001b[38;5;124m'\u001b[39m,\u001b[38;5;124m'\u001b[39m\u001b[38;5;124mtime\u001b[39m\u001b[38;5;124m'\u001b[39m]\n",
      "\u001b[1;31mKeyError\u001b[0m: ('name', 'time')"
     ]
    }
   ],
   "source": [
    "d2['name']"
   ]
  },
  {
   "cell_type": "code",
   "execution_count": 11,
   "id": "6db1e7da-e168-494f-902a-e0146eccf6fa",
   "metadata": {},
   "outputs": [
    {
     "data": {
      "text/plain": [
       "'8:30'"
      ]
     },
     "execution_count": 11,
     "metadata": {},
     "output_type": "execute_result"
    }
   ],
   "source": [
    "d2['time']"
   ]
  },
  {
   "cell_type": "code",
   "execution_count": 12,
   "id": "64f9f9cb-4af5-41cc-adc5-4aad1f210dd6",
   "metadata": {},
   "outputs": [
    {
     "data": {
      "text/plain": [
       "'DA 6 CLASS'"
      ]
     },
     "execution_count": 12,
     "metadata": {},
     "output_type": "execute_result"
    }
   ],
   "source": [
    "da6Name"
   ]
  },
  {
   "cell_type": "code",
   "execution_count": 14,
   "id": "99a7d16b-f5d1-4bdf-a6d1-31598da86b82",
   "metadata": {},
   "outputs": [],
   "source": [
    "da6Name = 'DA 6:00 AM CLASS'"
   ]
  },
  {
   "cell_type": "code",
   "execution_count": 15,
   "id": "ec762cf6-bc35-4176-bca2-55f8eff402eb",
   "metadata": {},
   "outputs": [
    {
     "data": {
      "text/plain": [
       "{'name': 'DA 6 CLASS', 'time': '8:30'}"
      ]
     },
     "execution_count": 15,
     "metadata": {},
     "output_type": "execute_result"
    }
   ],
   "source": [
    "d2"
   ]
  },
  {
   "cell_type": "code",
   "execution_count": 16,
   "id": "599b1c22-f9bb-4050-8882-9ae9dda5e43f",
   "metadata": {},
   "outputs": [
    {
     "data": {
      "text/plain": [
       "'DA 6 CLASS'"
      ]
     },
     "execution_count": 16,
     "metadata": {},
     "output_type": "execute_result"
    }
   ],
   "source": [
    "d2['name']"
   ]
  },
  {
   "cell_type": "code",
   "execution_count": 28,
   "id": "b5631149-87f6-4233-a36c-c3e54b4c489c",
   "metadata": {},
   "outputs": [],
   "source": [
    "l1 = ['ab1','ab2']\n",
    "t1 = ('tp1','tp2')"
   ]
  },
  {
   "cell_type": "code",
   "execution_count": 31,
   "id": "0603b992-b284-4125-ad99-5f86e8d50869",
   "metadata": {},
   "outputs": [],
   "source": [
    "d3 = { \n",
    "    'list1': l1 ,\n",
    "    'tupel1': t1,\n",
    "    1:2,\n",
    "    's1':'s2'}"
   ]
  },
  {
   "cell_type": "code",
   "execution_count": 32,
   "id": "ac92fab9-a518-4b6f-b6a5-f53016d0af09",
   "metadata": {},
   "outputs": [
    {
     "data": {
      "text/plain": [
       "{'list1': ['ab1', 'ab2'], 'tupel1': ('tp1', 'tp2'), 1: 2, 's1': 's2'}"
      ]
     },
     "execution_count": 32,
     "metadata": {},
     "output_type": "execute_result"
    }
   ],
   "source": [
    "d3"
   ]
  },
  {
   "cell_type": "code",
   "execution_count": 43,
   "id": "f0835c20-e661-4a02-af65-ade68b7979a9",
   "metadata": {},
   "outputs": [
    {
     "name": "stdout",
     "output_type": "stream",
     "text": [
      "['ab1', 'ab2']\n"
     ]
    },
    {
     "data": {
      "text/plain": [
       "list"
      ]
     },
     "execution_count": 43,
     "metadata": {},
     "output_type": "execute_result"
    }
   ],
   "source": [
    "print(d3['list1'])\n",
    "type(d3['list1'])"
   ]
  },
  {
   "cell_type": "code",
   "execution_count": 44,
   "id": "c715da96-1c77-4217-b67a-c83db163ec14",
   "metadata": {},
   "outputs": [
    {
     "name": "stdout",
     "output_type": "stream",
     "text": [
      "('tp1', 'tp2')\n",
      "<class 'tuple'>\n"
     ]
    }
   ],
   "source": [
    "print(d3['tupel1'])\n",
    "print(type(d3['tupel1']))"
   ]
  },
  {
   "cell_type": "code",
   "execution_count": 48,
   "id": "f4b639ca-b0c3-48a9-bfee-ad8f2d07f0a7",
   "metadata": {},
   "outputs": [
    {
     "name": "stdout",
     "output_type": "stream",
     "text": [
      "2\n",
      "<class 'int'>\n"
     ]
    },
    {
     "data": {
      "text/plain": [
       "int"
      ]
     },
     "execution_count": 48,
     "metadata": {},
     "output_type": "execute_result"
    }
   ],
   "source": [
    "print(d3[1])\n",
    "print(type(d3[1]))\n",
    "\n",
    "type(d3[1])"
   ]
  },
  {
   "cell_type": "code",
   "execution_count": 50,
   "id": "cb156f09-71f9-447e-b9da-80ee53e49a2d",
   "metadata": {},
   "outputs": [
    {
     "name": "stdout",
     "output_type": "stream",
     "text": [
      "s2\n",
      "<class 'str'>\n"
     ]
    }
   ],
   "source": [
    "print(d3['s1'])\n",
    "print(type(d3['s1']))"
   ]
  },
  {
   "cell_type": "code",
   "execution_count": 61,
   "id": "af222058-0c2b-4834-bf4c-3586de705cda",
   "metadata": {},
   "outputs": [
    {
     "name": "stdout",
     "output_type": "stream",
     "text": [
      "Help on class dict in module builtins:\n",
      "\n",
      "class dict(object)\n",
      " |  dict() -> new empty dictionary\n",
      " |  dict(mapping) -> new dictionary initialized from a mapping object's\n",
      " |      (key, value) pairs\n",
      " |  dict(iterable) -> new dictionary initialized as if via:\n",
      " |      d = {}\n",
      " |      for k, v in iterable:\n",
      " |          d[k] = v\n",
      " |  dict(**kwargs) -> new dictionary initialized with the name=value pairs\n",
      " |      in the keyword argument list.  For example:  dict(one=1, two=2)\n",
      " |  \n",
      " |  Built-in subclasses:\n",
      " |      StgDict\n",
      " |  \n",
      " |  Methods defined here:\n",
      " |  \n",
      " |  __contains__(self, key, /)\n",
      " |      True if the dictionary has the specified key, else False.\n",
      " |  \n",
      " |  __delitem__(self, key, /)\n",
      " |      Delete self[key].\n",
      " |  \n",
      " |  __eq__(self, value, /)\n",
      " |      Return self==value.\n",
      " |  \n",
      " |  __ge__(self, value, /)\n",
      " |      Return self>=value.\n",
      " |  \n",
      " |  __getattribute__(self, name, /)\n",
      " |      Return getattr(self, name).\n",
      " |  \n",
      " |  __getitem__(...)\n",
      " |      x.__getitem__(y) <==> x[y]\n",
      " |  \n",
      " |  __gt__(self, value, /)\n",
      " |      Return self>value.\n",
      " |  \n",
      " |  __init__(self, /, *args, **kwargs)\n",
      " |      Initialize self.  See help(type(self)) for accurate signature.\n",
      " |  \n",
      " |  __ior__(self, value, /)\n",
      " |      Return self|=value.\n",
      " |  \n",
      " |  __iter__(self, /)\n",
      " |      Implement iter(self).\n",
      " |  \n",
      " |  __le__(self, value, /)\n",
      " |      Return self<=value.\n",
      " |  \n",
      " |  __len__(self, /)\n",
      " |      Return len(self).\n",
      " |  \n",
      " |  __lt__(self, value, /)\n",
      " |      Return self<value.\n",
      " |  \n",
      " |  __ne__(self, value, /)\n",
      " |      Return self!=value.\n",
      " |  \n",
      " |  __or__(self, value, /)\n",
      " |      Return self|value.\n",
      " |  \n",
      " |  __repr__(self, /)\n",
      " |      Return repr(self).\n",
      " |  \n",
      " |  __reversed__(self, /)\n",
      " |      Return a reverse iterator over the dict keys.\n",
      " |  \n",
      " |  __ror__(self, value, /)\n",
      " |      Return value|self.\n",
      " |  \n",
      " |  __setitem__(self, key, value, /)\n",
      " |      Set self[key] to value.\n",
      " |  \n",
      " |  __sizeof__(...)\n",
      " |      D.__sizeof__() -> size of D in memory, in bytes\n",
      " |  \n",
      " |  clear(...)\n",
      " |      D.clear() -> None.  Remove all items from D.\n",
      " |  \n",
      " |  copy(...)\n",
      " |      D.copy() -> a shallow copy of D\n",
      " |  \n",
      " |  get(self, key, default=None, /)\n",
      " |      Return the value for key if key is in the dictionary, else default.\n",
      " |  \n",
      " |  items(...)\n",
      " |      D.items() -> a set-like object providing a view on D's items\n",
      " |  \n",
      " |  keys(...)\n",
      " |      D.keys() -> a set-like object providing a view on D's keys\n",
      " |  \n",
      " |  pop(...)\n",
      " |      D.pop(k[,d]) -> v, remove specified key and return the corresponding value.\n",
      " |      \n",
      " |      If the key is not found, return the default if given; otherwise,\n",
      " |      raise a KeyError.\n",
      " |  \n",
      " |  popitem(self, /)\n",
      " |      Remove and return a (key, value) pair as a 2-tuple.\n",
      " |      \n",
      " |      Pairs are returned in LIFO (last-in, first-out) order.\n",
      " |      Raises KeyError if the dict is empty.\n",
      " |  \n",
      " |  setdefault(self, key, default=None, /)\n",
      " |      Insert key with a value of default if key is not in the dictionary.\n",
      " |      \n",
      " |      Return the value for key if key is in the dictionary, else default.\n",
      " |  \n",
      " |  update(...)\n",
      " |      D.update([E, ]**F) -> None.  Update D from dict/iterable E and F.\n",
      " |      If E is present and has a .keys() method, then does:  for k in E: D[k] = E[k]\n",
      " |      If E is present and lacks a .keys() method, then does:  for k, v in E: D[k] = v\n",
      " |      In either case, this is followed by: for k in F:  D[k] = F[k]\n",
      " |  \n",
      " |  values(...)\n",
      " |      D.values() -> an object providing a view on D's values\n",
      " |  \n",
      " |  ----------------------------------------------------------------------\n",
      " |  Class methods defined here:\n",
      " |  \n",
      " |  __class_getitem__(...) from builtins.type\n",
      " |      See PEP 585\n",
      " |  \n",
      " |  fromkeys(iterable, value=None, /) from builtins.type\n",
      " |      Create a new dictionary with keys from iterable and values set to value.\n",
      " |  \n",
      " |  ----------------------------------------------------------------------\n",
      " |  Static methods defined here:\n",
      " |  \n",
      " |  __new__(*args, **kwargs) from builtins.type\n",
      " |      Create and return a new object.  See help(type) for accurate signature.\n",
      " |  \n",
      " |  ----------------------------------------------------------------------\n",
      " |  Data and other attributes defined here:\n",
      " |  \n",
      " |  __hash__ = None\n",
      "\n"
     ]
    }
   ],
   "source": [
    "help(dict)\n"
   ]
  },
  {
   "cell_type": "code",
   "execution_count": 54,
   "id": "384ec505-8663-414d-9383-937eb047880b",
   "metadata": {},
   "outputs": [
    {
     "data": {
      "text/plain": [
       "dict_items([('list1', ['ab1', 'ab2']), ('tupel1', ('tp1', 'tp2')), (1, 2), ('s1', 's2')])"
      ]
     },
     "execution_count": 54,
     "metadata": {},
     "output_type": "execute_result"
    }
   ],
   "source": [
    "d3.items()"
   ]
  },
  {
   "cell_type": "code",
   "execution_count": 55,
   "id": "39cf6609-7b4b-48d7-a8de-a0f4d45b250e",
   "metadata": {},
   "outputs": [
    {
     "data": {
      "text/plain": [
       "dict_keys(['list1', 'tupel1', 1, 's1'])"
      ]
     },
     "execution_count": 55,
     "metadata": {},
     "output_type": "execute_result"
    }
   ],
   "source": [
    "d3.keys()"
   ]
  },
  {
   "cell_type": "code",
   "execution_count": 56,
   "id": "605ddac3-c033-4224-8d7a-9c61838e53a4",
   "metadata": {},
   "outputs": [],
   "source": [
    "d3POp1 = d3.pop('s1')"
   ]
  },
  {
   "cell_type": "code",
   "execution_count": 58,
   "id": "74c429cb-a5f9-4214-81df-724fb658ac61",
   "metadata": {},
   "outputs": [
    {
     "data": {
      "text/plain": [
       "'s2'"
      ]
     },
     "execution_count": 58,
     "metadata": {},
     "output_type": "execute_result"
    }
   ],
   "source": [
    "d3POp1"
   ]
  },
  {
   "cell_type": "code",
   "execution_count": 59,
   "id": "331d0fe4-cebe-45b3-abd8-b59e899a5c8c",
   "metadata": {},
   "outputs": [
    {
     "data": {
      "text/plain": [
       "{'list1': ['ab1', 'ab2'], 'tupel1': ('tp1', 'tp2'), 1: 2}"
      ]
     },
     "execution_count": 59,
     "metadata": {},
     "output_type": "execute_result"
    }
   ],
   "source": [
    "d3"
   ]
  },
  {
   "cell_type": "code",
   "execution_count": 60,
   "id": "fb23e0c9-303a-4393-91d3-4ee23eb8b500",
   "metadata": {},
   "outputs": [
    {
     "data": {
      "text/plain": [
       "dict_values([['ab1', 'ab2'], ('tp1', 'tp2'), 2])"
      ]
     },
     "execution_count": 60,
     "metadata": {},
     "output_type": "execute_result"
    }
   ],
   "source": [
    "d3.values()"
   ]
  },
  {
   "cell_type": "code",
   "execution_count": null,
   "id": "00db6aca-3f93-40ed-b81e-c99aab752dfa",
   "metadata": {},
   "outputs": [],
   "source": []
  }
 ],
 "metadata": {
  "kernelspec": {
   "display_name": "Python 3 (ipykernel)",
   "language": "python",
   "name": "python3"
  },
  "language_info": {
   "codemirror_mode": {
    "name": "ipython",
    "version": 3
   },
   "file_extension": ".py",
   "mimetype": "text/x-python",
   "name": "python",
   "nbconvert_exporter": "python",
   "pygments_lexer": "ipython3",
   "version": "3.11.7"
  }
 },
 "nbformat": 4,
 "nbformat_minor": 5
}
