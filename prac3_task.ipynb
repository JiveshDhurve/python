{
 "cells": [
  {
   "cell_type": "markdown",
   "id": "a4fe7302",
   "metadata": {},
   "source": [
    "# Just practised "
   ]
  },
  {
   "cell_type": "code",
   "execution_count": 11,
   "id": "d67a6d06",
   "metadata": {},
   "outputs": [],
   "source": [
    "a = tuple(range(1,11,1))"
   ]
  },
  {
   "cell_type": "code",
   "execution_count": 12,
   "id": "c8eb3e00",
   "metadata": {},
   "outputs": [
    {
     "name": "stdout",
     "output_type": "stream",
     "text": [
      "(1, 2, 3, 4, 5, 6, 7, 8, 9, 10)\n"
     ]
    }
   ],
   "source": [
    "print(a)"
   ]
  },
  {
   "cell_type": "code",
   "execution_count": 13,
   "id": "0f7a2248",
   "metadata": {},
   "outputs": [],
   "source": [
    "b = set(range(2,21,2))"
   ]
  },
  {
   "cell_type": "code",
   "execution_count": 9,
   "id": "949bd789",
   "metadata": {},
   "outputs": [
    {
     "name": "stdout",
     "output_type": "stream",
     "text": [
      "{2, 4, 6, 8, 10, 12, 14, 16, 18, 20}\n"
     ]
    }
   ],
   "source": [
    "print(b)"
   ]
  },
  {
   "cell_type": "markdown",
   "id": "9ec2bff2",
   "metadata": {},
   "source": [
    "# DICT Practise"
   ]
  },
  {
   "cell_type": "code",
   "execution_count": 14,
   "id": "3a8d6452",
   "metadata": {},
   "outputs": [],
   "source": [
    "d1 = {'name':'Jivesh','Batch': 'DA4'}"
   ]
  },
  {
   "cell_type": "code",
   "execution_count": 18,
   "id": "87a701d5",
   "metadata": {},
   "outputs": [
    {
     "name": "stdout",
     "output_type": "stream",
     "text": [
      "{'name': 'Jivesh', 'Batch': 'DA4'}\n"
     ]
    }
   ],
   "source": [
    "print(d1)"
   ]
  },
  {
   "cell_type": "code",
   "execution_count": 19,
   "id": "f59d2edd",
   "metadata": {},
   "outputs": [
    {
     "data": {
      "text/plain": [
       "dict"
      ]
     },
     "execution_count": 19,
     "metadata": {},
     "output_type": "execute_result"
    }
   ],
   "source": [
    "type(d1)"
   ]
  },
  {
   "cell_type": "code",
   "execution_count": 20,
   "id": "24a35c87",
   "metadata": {},
   "outputs": [],
   "source": [
    "  d1['name'] = 'ARC'"
   ]
  },
  {
   "cell_type": "code",
   "execution_count": 21,
   "id": "de835057",
   "metadata": {},
   "outputs": [
    {
     "name": "stdout",
     "output_type": "stream",
     "text": [
      "{'name': 'ARC', 'Batch': 'DA4'}\n"
     ]
    }
   ],
   "source": [
    "print (d1)"
   ]
  },
  {
   "cell_type": "code",
   "execution_count": 32,
   "id": "ad1a8d29",
   "metadata": {},
   "outputs": [],
   "source": [
    "l1 = ['list1','list2']\n",
    "t1 = ('tuple1','tuple2')"
   ]
  },
  {
   "cell_type": "code",
   "execution_count": 33,
   "id": "86315f56",
   "metadata": {},
   "outputs": [],
   "source": [
    "d2 = {\n",
    "    'List': l1,\n",
    "    'Tuple': t1,\n",
    "    12:13,\n",
    "    's1':'s2'\n",
    "}"
   ]
  },
  {
   "cell_type": "code",
   "execution_count": 34,
   "id": "f72f0edb",
   "metadata": {},
   "outputs": [
    {
     "name": "stdout",
     "output_type": "stream",
     "text": [
      "<class 'dict'>\n"
     ]
    }
   ],
   "source": [
    "print(type(d2))"
   ]
  },
  {
   "cell_type": "code",
   "execution_count": 35,
   "id": "8c43a587",
   "metadata": {},
   "outputs": [
    {
     "name": "stdout",
     "output_type": "stream",
     "text": [
      "{'List': ['list1', 'list2'], 'Tuple': ('tuple1', 'tuple2'), 12: 13, 's1': 's2'}\n"
     ]
    }
   ],
   "source": [
    "print(d2)"
   ]
  },
  {
   "cell_type": "code",
   "execution_count": 36,
   "id": "13519a39",
   "metadata": {},
   "outputs": [
    {
     "data": {
      "text/plain": [
       "dict_keys(['List', 'Tuple', 12, 's1'])"
      ]
     },
     "execution_count": 36,
     "metadata": {},
     "output_type": "execute_result"
    }
   ],
   "source": [
    "d2.keys()"
   ]
  },
  {
   "cell_type": "code",
   "execution_count": 37,
   "id": "6f8bd788",
   "metadata": {},
   "outputs": [
    {
     "data": {
      "text/plain": [
       "dict_values([['list1', 'list2'], ('tuple1', 'tuple2'), 13, 's2'])"
      ]
     },
     "execution_count": 37,
     "metadata": {},
     "output_type": "execute_result"
    }
   ],
   "source": [
    "d2.values()"
   ]
  },
  {
   "cell_type": "code",
   "execution_count": 38,
   "id": "22c6d17b",
   "metadata": {},
   "outputs": [
    {
     "name": "stdout",
     "output_type": "stream",
     "text": [
      "13\n"
     ]
    }
   ],
   "source": [
    "print(d2[12])"
   ]
  },
  {
   "cell_type": "code",
   "execution_count": 39,
   "id": "199c5558",
   "metadata": {},
   "outputs": [
    {
     "name": "stdout",
     "output_type": "stream",
     "text": [
      "<class 'int'>\n",
      "13\n"
     ]
    }
   ],
   "source": [
    "print(type(d2[12]))\n",
    "print(d2[12])"
   ]
  },
  {
   "cell_type": "code",
   "execution_count": 40,
   "id": "924f55a5",
   "metadata": {},
   "outputs": [
    {
     "data": {
      "text/plain": [
       "dict_items([('List', ['list1', 'list2']), ('Tuple', ('tuple1', 'tuple2')), (12, 13), ('s1', 's2')])"
      ]
     },
     "execution_count": 40,
     "metadata": {},
     "output_type": "execute_result"
    }
   ],
   "source": [
    "d2.items()"
   ]
  },
  {
   "cell_type": "code",
   "execution_count": 43,
   "id": "95071919",
   "metadata": {},
   "outputs": [
    {
     "data": {
      "text/plain": [
       "'s2'"
      ]
     },
     "execution_count": 43,
     "metadata": {},
     "output_type": "execute_result"
    }
   ],
   "source": [
    "d2.pop('s1')"
   ]
  },
  {
   "cell_type": "code",
   "execution_count": 44,
   "id": "1c01af1d",
   "metadata": {},
   "outputs": [
    {
     "data": {
      "text/plain": [
       "{'List': ['list1', 'list2'], 'Tuple': ('tuple1', 'tuple2'), 12: 13}"
      ]
     },
     "execution_count": 44,
     "metadata": {},
     "output_type": "execute_result"
    }
   ],
   "source": [
    "d2"
   ]
  },
  {
   "cell_type": "markdown",
   "id": "ed7d29f7",
   "metadata": {},
   "source": [
    "# FUNCTION"
   ]
  },
  {
   "cell_type": "code",
   "execution_count": 47,
   "id": "c172934a",
   "metadata": {},
   "outputs": [],
   "source": [
    "def addvalue (x,y):\n",
    "    print('practising func')\n",
    "    result = x + y\n",
    "    print(f'result={result}')"
   ]
  },
  {
   "cell_type": "code",
   "execution_count": 49,
   "id": "90f8e455",
   "metadata": {},
   "outputs": [
    {
     "name": "stdout",
     "output_type": "stream",
     "text": [
      "practising func\n",
      "result=5\n"
     ]
    }
   ],
   "source": [
    " addvalue(2,3)"
   ]
  },
  {
   "cell_type": "code",
   "execution_count": 50,
   "id": "aa3c08a1",
   "metadata": {},
   "outputs": [
    {
     "name": "stdout",
     "output_type": "stream",
     "text": [
      "top of function\n"
     ]
    }
   ],
   "source": [
    "print (\"top of function\")"
   ]
  },
  {
   "cell_type": "code",
   "execution_count": 65,
   "id": "9173c7e0",
   "metadata": {},
   "outputs": [
    {
     "name": "stdout",
     "output_type": "stream",
     "text": [
      "top of function\n"
     ]
    }
   ],
   "source": [
    "print (\"top of function\")\n",
    "\n",
    "def multiply_value(x,y) :\n",
    "    print('Starting multiplication')\n",
    "    result = x * y\n",
    "    print(f'result={result}')\n",
    "    print('We are into multiplication function')\n",
    "    "
   ]
  },
  {
   "cell_type": "code",
   "execution_count": 66,
   "id": "ed093001",
   "metadata": {},
   "outputs": [
    {
     "name": "stdout",
     "output_type": "stream",
     "text": [
      "Starting multiplication\n",
      "result=50\n",
      "We are into multiplication function\n"
     ]
    }
   ],
   "source": [
    "final_result = multiply_value(5,10)"
   ]
  },
  {
   "cell_type": "code",
   "execution_count": 82,
   "id": "711597fe",
   "metadata": {},
   "outputs": [
    {
     "name": "stdout",
     "output_type": "stream",
     "text": [
      "None\n"
     ]
    }
   ],
   "source": [
    "print(final_result)"
   ]
  },
  {
   "cell_type": "code",
   "execution_count": 85,
   "id": "6d318c85",
   "metadata": {},
   "outputs": [
    {
     "name": "stdout",
     "output_type": "stream",
     "text": [
      "we are into division function\n"
     ]
    }
   ],
   "source": [
    "print ('we are into division function')\n",
    "\n",
    "def divfunc (x,y) :\n",
    "    print('Lets divide value')\n",
    "    result = x / y\n",
    "    print(f'result = {result}')\n",
    "    return result\n",
    "    \n",
    "    ##print ('Kindly wait for 0.01 sec')\n",
    "    \n",
    "    "
   ]
  },
  {
   "cell_type": "code",
   "execution_count": 86,
   "id": "8b5d0907",
   "metadata": {},
   "outputs": [
    {
     "name": "stdout",
     "output_type": "stream",
     "text": [
      "Lets divide value\n",
      "result = 20.0\n",
      "20.0\n"
     ]
    }
   ],
   "source": [
    " final = divfunc(100,5)\n",
    " print(final)"
   ]
  },
  {
   "cell_type": "code",
   "execution_count": 111,
   "id": "25c7b828",
   "metadata": {},
   "outputs": [],
   "source": [
    " def trynew (x,y,op):\n",
    "        print('using loop inside function')\n",
    "        if (op == 'add'):\n",
    "            print('Add operation')\n",
    "            return(x + y)\n",
    "        elif (op == 'sub'):\n",
    "            print('Sub operation')\n",
    "            return(x - y)\n",
    "        elif (op == 'mul'):\n",
    "            print('Mul operation')\n",
    "            return(x * y)\n",
    "        elif (op == 'div'):\n",
    "            print('Div operation')\n",
    "            return(x / y)\n",
    "        else :\n",
    "            return('Choose the correct operator')"
   ]
  },
  {
   "cell_type": "code",
   "execution_count": 112,
   "id": "84d8f57d",
   "metadata": {},
   "outputs": [
    {
     "name": "stdout",
     "output_type": "stream",
     "text": [
      "using loop inside function\n",
      "Add operation\n"
     ]
    },
    {
     "data": {
      "text/plain": [
       "6"
      ]
     },
     "execution_count": 112,
     "metadata": {},
     "output_type": "execute_result"
    }
   ],
   "source": [
    " trynew(2,4,'add')"
   ]
  },
  {
   "cell_type": "code",
   "execution_count": 113,
   "id": "f36589ae",
   "metadata": {},
   "outputs": [
    {
     "name": "stdout",
     "output_type": "stream",
     "text": [
      "using loop inside function\n",
      "Mul operation\n",
      "result = 8\n"
     ]
    }
   ],
   "source": [
    "result = trynew(2,4,'mul')\n",
    "print (f'result = {result}')\n"
   ]
  },
  {
   "cell_type": "code",
   "execution_count": 106,
   "id": "df188e3f",
   "metadata": {},
   "outputs": [
    {
     "data": {
      "text/plain": [
       "function"
      ]
     },
     "execution_count": 106,
     "metadata": {},
     "output_type": "execute_result"
    }
   ],
   "source": [
    "type(trynew)"
   ]
  },
  {
   "cell_type": "markdown",
   "id": "c070620a",
   "metadata": {},
   "source": [
    "# TASK"
   ]
  },
  {
   "cell_type": "code",
   "execution_count": 131,
   "id": "26ff8a04",
   "metadata": {},
   "outputs": [],
   "source": [
    " def taskfunc():\n",
    "        x = {'value1':'parameter','value2':'parameter2','value3':'parameter3'}\n",
    "        print(x)"
   ]
  },
  {
   "cell_type": "code",
   "execution_count": 133,
   "id": "f5e0dd75",
   "metadata": {},
   "outputs": [
    {
     "name": "stdout",
     "output_type": "stream",
     "text": [
      "{'value1': 'parameter', 'value2': 'parameter2', 'value3': 'parameter3'}\n"
     ]
    }
   ],
   "source": [
    " result = taskfunc()"
   ]
  },
  {
   "cell_type": "markdown",
   "id": "a93674f1",
   "metadata": {},
   "source": [
    "# OR"
   ]
  },
  {
   "cell_type": "code",
   "execution_count": 138,
   "id": "8447e04d",
   "metadata": {},
   "outputs": [
    {
     "name": "stdout",
     "output_type": "stream",
     "text": [
      "{'param1': 'value1', 'param2': 'value2', 'param3': 'value3'}\n"
     ]
    }
   ],
   "source": [
    "def join_parameters(param1, param2, param3):\n",
    "    result = {\n",
    "        \"param1\": param1,\n",
    "        \"param2\": param2,\n",
    "        \"param3\": param3\n",
    "    }\n",
    "    return result\n",
    "\n",
    "output = join_parameters(\"value1\", \"value2\", \"value3\")\n",
    "print(output)\n"
   ]
  },
  {
   "cell_type": "code",
   "execution_count": null,
   "id": "70cdffc0",
   "metadata": {},
   "outputs": [],
   "source": []
  }
 ],
 "metadata": {
  "kernelspec": {
   "display_name": "Python 3 (ipykernel)",
   "language": "python",
   "name": "python3"
  },
  "language_info": {
   "codemirror_mode": {
    "name": "ipython",
    "version": 3
   },
   "file_extension": ".py",
   "mimetype": "text/x-python",
   "name": "python",
   "nbconvert_exporter": "python",
   "pygments_lexer": "ipython3",
   "version": "3.11.7"
  }
 },
 "nbformat": 4,
 "nbformat_minor": 5
}
