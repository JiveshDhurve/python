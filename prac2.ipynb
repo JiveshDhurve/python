{
 "cells": [
  {
   "cell_type": "code",
   "execution_count": 2,
   "id": "25977a7c",
   "metadata": {},
   "outputs": [],
   "source": [
    "v1 = 1\n",
    "v2 = 2\n",
    "v3 = 3\n",
    "v4 = 4"
   ]
  },
  {
   "cell_type": "code",
   "execution_count": 3,
   "id": "6d5a6890",
   "metadata": {},
   "outputs": [
    {
     "name": "stdout",
     "output_type": "stream",
     "text": [
      "1 2 3 4\n"
     ]
    }
   ],
   "source": [
    "print(v1,v2,v3,v4)"
   ]
  },
  {
   "cell_type": "code",
   "execution_count": 4,
   "id": "fdfb5c7c",
   "metadata": {},
   "outputs": [
    {
     "data": {
      "text/plain": [
       "False"
      ]
     },
     "execution_count": 4,
     "metadata": {},
     "output_type": "execute_result"
    }
   ],
   "source": [
    "v1 == (v2,v3,v4)\n",
    "v2 == (v1,v3,v4)\n",
    "v3 == (v1,v2,v4)\n",
    "v4 == (v1,v2,v3)"
   ]
  },
  {
   "cell_type": "code",
   "execution_count": 5,
   "id": "af1a494b",
   "metadata": {},
   "outputs": [
    {
     "name": "stdout",
     "output_type": "stream",
     "text": [
      "v1 = 1\n"
     ]
    }
   ],
   "source": [
    "print('v1 = {}'.format(v1))"
   ]
  },
  {
   "cell_type": "code",
   "execution_count": 6,
   "id": "9bd54c5a",
   "metadata": {},
   "outputs": [
    {
     "name": "stdout",
     "output_type": "stream",
     "text": [
      "v1 = 1,v2 =2\n"
     ]
    }
   ],
   "source": [
    "print('v1 = {},v2 ={}'.format(v1,v2))"
   ]
  },
  {
   "cell_type": "code",
   "execution_count": 7,
   "id": "1f616a0a",
   "metadata": {},
   "outputs": [
    {
     "name": "stdout",
     "output_type": "stream",
     "text": [
      "v1 = 1,v2 = 2\n"
     ]
    }
   ],
   "source": [
    " print(f\"v1 = {v1},v2 = {v2}\")"
   ]
  },
  {
   "cell_type": "markdown",
   "id": "5c0ff742",
   "metadata": {},
   "source": [
    "# # above mention method is smallest form of the mentioned method above"
   ]
  },
  {
   "cell_type": "code",
   "execution_count": 8,
   "id": "11667e10",
   "metadata": {},
   "outputs": [
    {
     "name": "stdout",
     "output_type": "stream",
     "text": [
      "v1=1,v2=2\n"
     ]
    }
   ],
   "source": [
    "print(f'v1={v1},v2={v2}')"
   ]
  },
  {
   "cell_type": "code",
   "execution_count": 4,
   "id": "959ee890",
   "metadata": {},
   "outputs": [],
   "source": [
    "A = [[1,2],'b','c','hello',4,3]"
   ]
  },
  {
   "cell_type": "code",
   "execution_count": 5,
   "id": "a1e00878",
   "metadata": {},
   "outputs": [
    {
     "data": {
      "text/plain": [
       "2"
      ]
     },
     "execution_count": 5,
     "metadata": {},
     "output_type": "execute_result"
    }
   ],
   "source": [
    "A [0][1]"
   ]
  },
  {
   "cell_type": "code",
   "execution_count": 6,
   "id": "e481eb25",
   "metadata": {},
   "outputs": [
    {
     "name": "stdout",
     "output_type": "stream",
     "text": [
      "['b', 'hello', 3]\n"
     ]
    }
   ],
   "source": [
    "print( A [1::2])"
   ]
  },
  {
   "cell_type": "code",
   "execution_count": 10,
   "id": "22d6e575",
   "metadata": {},
   "outputs": [],
   "source": [
    "l4 = [[1,2,3],'new_list',[[4,5,6],[7,8,9]]]"
   ]
  },
  {
   "cell_type": "code",
   "execution_count": 15,
   "id": "96270f0a",
   "metadata": {},
   "outputs": [
    {
     "name": "stdout",
     "output_type": "stream",
     "text": [
      "7\n"
     ]
    }
   ],
   "source": [
    "print (l4 [2][1][0])"
   ]
  },
  {
   "cell_type": "markdown",
   "id": "7b5d0eda",
   "metadata": {},
   "source": [
    "# Range"
   ]
  },
  {
   "cell_type": "code",
   "execution_count": 16,
   "id": "c7c788e1",
   "metadata": {},
   "outputs": [],
   "source": [
    "l7 = list(range(2,21,2))"
   ]
  },
  {
   "cell_type": "code",
   "execution_count": 17,
   "id": "971ce2c5",
   "metadata": {},
   "outputs": [
    {
     "data": {
      "text/plain": [
       "[2, 4, 6, 8, 10, 12, 14, 16, 18, 20]"
      ]
     },
     "execution_count": 17,
     "metadata": {},
     "output_type": "execute_result"
    }
   ],
   "source": [
    "l7"
   ]
  },
  {
   "cell_type": "code",
   "execution_count": 21,
   "id": "e4620fba",
   "metadata": {},
   "outputs": [],
   "source": [
    "l8 = list(range(3,31,3))"
   ]
  },
  {
   "cell_type": "code",
   "execution_count": 22,
   "id": "3f5fde88",
   "metadata": {},
   "outputs": [
    {
     "name": "stdout",
     "output_type": "stream",
     "text": [
      "[3, 6, 9, 12, 15, 18, 21, 24, 27, 30] <class 'list'>\n"
     ]
    }
   ],
   "source": [
    "print(l8,type(l8))"
   ]
  },
  {
   "cell_type": "code",
   "execution_count": 23,
   "id": "c2020b8f",
   "metadata": {},
   "outputs": [],
   "source": [
    "l10 = list(range(11,121,11))"
   ]
  },
  {
   "cell_type": "code",
   "execution_count": 24,
   "id": "a94784ad",
   "metadata": {},
   "outputs": [
    {
     "name": "stdout",
     "output_type": "stream",
     "text": [
      "[11, 22, 33, 44, 55, 66, 77, 88, 99, 110]\n"
     ]
    }
   ],
   "source": [
    "print(l10)"
   ]
  },
  {
   "cell_type": "markdown",
   "id": "070e7c95",
   "metadata": {},
   "source": [
    "# SORT"
   ]
  },
  {
   "cell_type": "code",
   "execution_count": 27,
   "id": "08270680",
   "metadata": {},
   "outputs": [],
   "source": [
    "l11 = [100,40,200,10,34,87,98,45,4,0]"
   ]
  },
  {
   "cell_type": "code",
   "execution_count": 29,
   "id": "fbef1b59",
   "metadata": {},
   "outputs": [],
   "source": [
    "l11.sort()"
   ]
  },
  {
   "cell_type": "code",
   "execution_count": 30,
   "id": "42a4388a",
   "metadata": {},
   "outputs": [
    {
     "name": "stdout",
     "output_type": "stream",
     "text": [
      "[0, 4, 10, 34, 40, 45, 87, 98, 100, 200]\n"
     ]
    }
   ],
   "source": [
    "print(l11)"
   ]
  },
  {
   "cell_type": "code",
   "execution_count": 31,
   "id": "6f00c81f",
   "metadata": {},
   "outputs": [],
   "source": [
    "l8 = list(range(3,31,3))"
   ]
  },
  {
   "cell_type": "code",
   "execution_count": 32,
   "id": "5a3e4960",
   "metadata": {},
   "outputs": [
    {
     "data": {
      "text/plain": [
       "[3, 6, 9, 12, 15, 18, 21, 24, 27, 30]"
      ]
     },
     "execution_count": 32,
     "metadata": {},
     "output_type": "execute_result"
    }
   ],
   "source": [
    "l8"
   ]
  },
  {
   "cell_type": "code",
   "execution_count": 33,
   "id": "c33ab492",
   "metadata": {},
   "outputs": [],
   "source": [
    "l8.sort(reverse = True)"
   ]
  },
  {
   "cell_type": "code",
   "execution_count": 34,
   "id": "c076ec51",
   "metadata": {},
   "outputs": [
    {
     "name": "stdout",
     "output_type": "stream",
     "text": [
      "[30, 27, 24, 21, 18, 15, 12, 9, 6, 3]\n"
     ]
    }
   ],
   "source": [
    "print(l8)"
   ]
  },
  {
   "cell_type": "markdown",
   "id": "8549cf1e",
   "metadata": {},
   "source": [
    "# Append"
   ]
  },
  {
   "cell_type": "code",
   "execution_count": 35,
   "id": "95b692b0",
   "metadata": {},
   "outputs": [],
   "source": [
    "l8 = list(range(3,31,3))"
   ]
  },
  {
   "cell_type": "code",
   "execution_count": 36,
   "id": "e56c3d7c",
   "metadata": {},
   "outputs": [],
   "source": [
    "l11 = [100,40,200,10,34,87,98,45,4,0]"
   ]
  },
  {
   "cell_type": "code",
   "execution_count": 37,
   "id": "d948e78d",
   "metadata": {},
   "outputs": [],
   "source": [
    "l8.append(l11)"
   ]
  },
  {
   "cell_type": "code",
   "execution_count": 38,
   "id": "3e234d13",
   "metadata": {},
   "outputs": [
    {
     "name": "stdout",
     "output_type": "stream",
     "text": [
      "[3, 6, 9, 12, 15, 18, 21, 24, 27, 30, [100, 40, 200, 10, 34, 87, 98, 45, 4, 0]]\n"
     ]
    }
   ],
   "source": [
    "print(l8)"
   ]
  },
  {
   "cell_type": "markdown",
   "id": "782ce1f1",
   "metadata": {},
   "source": [
    "# changing the value"
   ]
  },
  {
   "cell_type": "code",
   "execution_count": 39,
   "id": "277fa259",
   "metadata": {},
   "outputs": [],
   "source": [
    "l11 = [100,40,200,10,34,87,98,45,4,0]"
   ]
  },
  {
   "cell_type": "code",
   "execution_count": 40,
   "id": "315119a4",
   "metadata": {},
   "outputs": [
    {
     "data": {
      "text/plain": [
       "[40, 200, 10]"
      ]
     },
     "execution_count": 40,
     "metadata": {},
     "output_type": "execute_result"
    }
   ],
   "source": [
    "l11[1:4]"
   ]
  },
  {
   "cell_type": "code",
   "execution_count": 41,
   "id": "c4800a8a",
   "metadata": {},
   "outputs": [],
   "source": [
    "l11[1:4] = ['c1','c2','c3']"
   ]
  },
  {
   "cell_type": "code",
   "execution_count": 42,
   "id": "dbd7d14b",
   "metadata": {},
   "outputs": [
    {
     "data": {
      "text/plain": [
       "[100, 'c1', 'c2', 'c3', 34, 87, 98, 45, 4, 0]"
      ]
     },
     "execution_count": 42,
     "metadata": {},
     "output_type": "execute_result"
    }
   ],
   "source": [
    "l11"
   ]
  },
  {
   "cell_type": "code",
   "execution_count": 44,
   "id": "4eedd82b",
   "metadata": {},
   "outputs": [
    {
     "data": {
      "text/plain": [
       "100"
      ]
     },
     "execution_count": 44,
     "metadata": {},
     "output_type": "execute_result"
    }
   ],
   "source": [
    "l11[0]"
   ]
  },
  {
   "cell_type": "code",
   "execution_count": 47,
   "id": "edafb449",
   "metadata": {},
   "outputs": [],
   "source": [
    "l11[0] = 'c0'"
   ]
  },
  {
   "cell_type": "code",
   "execution_count": 51,
   "id": "bfbea4ea",
   "metadata": {},
   "outputs": [
    {
     "data": {
      "text/plain": [
       "['c0', 'c1', 'c2', 'c3', 34, 87, 98, 45, 4]"
      ]
     },
     "execution_count": 51,
     "metadata": {},
     "output_type": "execute_result"
    }
   ],
   "source": [
    "l11"
   ]
  },
  {
   "cell_type": "code",
   "execution_count": 50,
   "id": "36bcd667",
   "metadata": {},
   "outputs": [
    {
     "ename": "SyntaxError",
     "evalue": "invalid syntax (1470130872.py, line 1)",
     "output_type": "error",
     "traceback": [
      "\u001b[1;36m  Cell \u001b[1;32mIn[50], line 1\u001b[1;36m\u001b[0m\n\u001b[1;33m    |l11\u001b[0m\n\u001b[1;37m    ^\u001b[0m\n\u001b[1;31mSyntaxError\u001b[0m\u001b[1;31m:\u001b[0m invalid syntax\n"
     ]
    }
   ],
   "source": []
  },
  {
   "cell_type": "markdown",
   "id": "8773f6d6",
   "metadata": {},
   "source": [
    "# remove the value"
   ]
  },
  {
   "cell_type": "code",
   "execution_count": 52,
   "id": "e565b627",
   "metadata": {},
   "outputs": [],
   "source": [
    "l11 = [100,40,200,10,34,87,98,45,4,0]"
   ]
  },
  {
   "cell_type": "code",
   "execution_count": 53,
   "id": "3682f7b9",
   "metadata": {},
   "outputs": [],
   "source": [
    "l11.remove(0)"
   ]
  },
  {
   "cell_type": "code",
   "execution_count": 54,
   "id": "404c3957",
   "metadata": {},
   "outputs": [
    {
     "data": {
      "text/plain": [
       "[100, 40, 200, 10, 34, 87, 98, 45, 4]"
      ]
     },
     "execution_count": 54,
     "metadata": {},
     "output_type": "execute_result"
    }
   ],
   "source": [
    "l11"
   ]
  },
  {
   "cell_type": "code",
   "execution_count": 55,
   "id": "55a3c540",
   "metadata": {},
   "outputs": [],
   "source": [
    "l11.sort(reverse = True)"
   ]
  },
  {
   "cell_type": "code",
   "execution_count": 56,
   "id": "bfb57fad",
   "metadata": {},
   "outputs": [
    {
     "data": {
      "text/plain": [
       "[200, 100, 98, 87, 45, 40, 34, 10, 4]"
      ]
     },
     "execution_count": 56,
     "metadata": {},
     "output_type": "execute_result"
    }
   ],
   "source": [
    "l11"
   ]
  },
  {
   "cell_type": "code",
   "execution_count": 57,
   "id": "cd6abab9",
   "metadata": {},
   "outputs": [
    {
     "data": {
      "text/plain": [
       "<function list.sort(*, key=None, reverse=False)>"
      ]
     },
     "execution_count": 57,
     "metadata": {},
     "output_type": "execute_result"
    }
   ],
   "source": [
    "l11.sort"
   ]
  },
  {
   "cell_type": "code",
   "execution_count": 58,
   "id": "859cad7f",
   "metadata": {},
   "outputs": [
    {
     "data": {
      "text/plain": [
       "[200, 100, 98, 87, 45, 40, 34, 10, 4]"
      ]
     },
     "execution_count": 58,
     "metadata": {},
     "output_type": "execute_result"
    }
   ],
   "source": [
    "l11"
   ]
  },
  {
   "cell_type": "markdown",
   "id": "87ddd66f",
   "metadata": {},
   "source": [
    "# tuple"
   ]
  },
  {
   "cell_type": "code",
   "execution_count": 59,
   "id": "6965c52c",
   "metadata": {},
   "outputs": [],
   "source": [
    " t1 = ('t2','t3','t4',1,2,3)"
   ]
  },
  {
   "cell_type": "code",
   "execution_count": 60,
   "id": "f5fa6c81",
   "metadata": {},
   "outputs": [
    {
     "name": "stdout",
     "output_type": "stream",
     "text": [
      "<class 'tuple'>\n"
     ]
    }
   ],
   "source": [
    "print(type(t1))"
   ]
  },
  {
   "cell_type": "code",
   "execution_count": 61,
   "id": "2578621e",
   "metadata": {},
   "outputs": [
    {
     "data": {
      "text/plain": [
       "('t2', 't3', 't4', 1, 2, 3)"
      ]
     },
     "execution_count": 61,
     "metadata": {},
     "output_type": "execute_result"
    }
   ],
   "source": [
    "t1"
   ]
  },
  {
   "cell_type": "code",
   "execution_count": 62,
   "id": "5c797d14",
   "metadata": {},
   "outputs": [],
   "source": [
    "##### tuple cant be edited"
   ]
  },
  {
   "cell_type": "code",
   "execution_count": null,
   "id": "2b329c6c",
   "metadata": {},
   "outputs": [],
   "source": []
  }
 ],
 "metadata": {
  "kernelspec": {
   "display_name": "Python 3 (ipykernel)",
   "language": "python",
   "name": "python3"
  },
  "language_info": {
   "codemirror_mode": {
    "name": "ipython",
    "version": 3
   },
   "file_extension": ".py",
   "mimetype": "text/x-python",
   "name": "python",
   "nbconvert_exporter": "python",
   "pygments_lexer": "ipython3",
   "version": "3.11.7"
  }
 },
 "nbformat": 4,
 "nbformat_minor": 5
}
