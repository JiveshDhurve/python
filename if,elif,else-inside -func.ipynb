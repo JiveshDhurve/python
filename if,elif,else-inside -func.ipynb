{
 "cells": [
  {
   "cell_type": "code",
   "execution_count": 6,
   "id": "4b650aa4",
   "metadata": {},
   "outputs": [],
   "source": [
    "def do_operation(val1,val2,op):\n",
    " print(val1,val2,op)\n",
    "    "
   ]
  },
  {
   "cell_type": "code",
   "execution_count": 9,
   "id": "3b5e8ee6",
   "metadata": {},
   "outputs": [
    {
     "name": "stdout",
     "output_type": "stream",
     "text": [
      "1 2 3\n"
     ]
    }
   ],
   "source": [
    "do_operation(1,2,3)"
   ]
  },
  {
   "cell_type": "markdown",
   "id": "e73f927b",
   "metadata": {},
   "source": [
    "# how void comes in print using format and it comes because we have not return value and in If condition"
   ]
  },
  {
   "cell_type": "code",
   "execution_count": 4,
   "id": "8b52cc8d",
   "metadata": {},
   "outputs": [],
   "source": [
    "def do_operation(val1,val2,op):\n",
    "    print(val1,val2,op)\n",
    "    if (op == 'add'):\n",
    "     print(f'{val1}+{val2} = {val1+val2}')\n",
    "    else :\n",
    "     print('Choose correct operator')"
   ]
  },
  {
   "cell_type": "code",
   "execution_count": 5,
   "id": "100c2d0f",
   "metadata": {},
   "outputs": [
    {
     "name": "stdout",
     "output_type": "stream",
     "text": [
      "2 1 add\n",
      "2+1 = 3\n",
      "result = None\n"
     ]
    }
   ],
   "source": [
    "result = do_operation(2,1,'add')\n",
    "print(f'result = {result}')"
   ]
  },
  {
   "cell_type": "markdown",
   "id": "d1ab2506",
   "metadata": {},
   "source": [
    "# After returning values in if condition ,the result will not remain void"
   ]
  },
  {
   "cell_type": "code",
   "execution_count": 6,
   "id": "47368d02",
   "metadata": {},
   "outputs": [],
   "source": [
    "def do_operation(val1,val2,op):\n",
    "    print(val1,val2,op)\n",
    "    if (op == 'add'):\n",
    "     print(f'{val1}+{val2} = {val1+val2}')\n",
    "     return val1 + val2\n",
    "    else :\n",
    "     print('Choose correct operator')"
   ]
  },
  {
   "cell_type": "code",
   "execution_count": 7,
   "id": "2e058272",
   "metadata": {},
   "outputs": [
    {
     "name": "stdout",
     "output_type": "stream",
     "text": [
      "2 1 add\n",
      "2+1 = 3\n",
      "result = 3\n"
     ]
    }
   ],
   "source": [
    "result = do_operation(2,1,'add')\n",
    "print(f'result = {result}')"
   ]
  },
  {
   "cell_type": "code",
   "execution_count": 18,
   "id": "b39e9034",
   "metadata": {},
   "outputs": [
    {
     "name": "stdout",
     "output_type": "stream",
     "text": [
      " do_operation = <function do_operation at 0x00000220660D5DA0>\n"
     ]
    }
   ],
   "source": [
    "print(f' do_operation = { do_operation}')"
   ]
  },
  {
   "cell_type": "code",
   "execution_count": 19,
   "id": "df0c18fd",
   "metadata": {},
   "outputs": [
    {
     "name": "stdout",
     "output_type": "stream",
     "text": [
      "type_of do_operation = <class 'function'>\n"
     ]
    }
   ],
   "source": [
    "print(f'type_of do_operation = {type( do_operation )}')"
   ]
  },
  {
   "cell_type": "markdown",
   "id": "25188048",
   "metadata": {},
   "source": [
    "# Problem Solving"
   ]
  },
  {
   "cell_type": "code",
   "execution_count": 15,
   "id": "6bf4b428",
   "metadata": {},
   "outputs": [],
   "source": [
    "def try_func (para1 ,para2,para3) :\n",
    "    result = {\n",
    "        'para1': para1,\n",
    "        'para2': para2 ,\n",
    "        'para3': para3\n",
    "             }\n",
    "    return result\n"
   ]
  },
  {
   "cell_type": "code",
   "execution_count": 16,
   "id": "efab5090",
   "metadata": {},
   "outputs": [],
   "source": [
    "final_result = try_func(12,13,14)"
   ]
  },
  {
   "cell_type": "code",
   "execution_count": 17,
   "id": "9e2bd194",
   "metadata": {},
   "outputs": [
    {
     "name": "stdout",
     "output_type": "stream",
     "text": [
      "final_result = {'para1': 12, 'para2': 13, 'para3': 14}\n"
     ]
    }
   ],
   "source": [
    "print (f'final_result = {final_result}')"
   ]
  },
  {
   "cell_type": "markdown",
   "id": "4909375b",
   "metadata": {},
   "source": [
    "# practise"
   ]
  },
  {
   "cell_type": "code",
   "execution_count": 24,
   "id": "b2fc52b7",
   "metadata": {},
   "outputs": [],
   "source": [
    "def trying(val1,val2,op) :\n",
    "    if (op == 'mul'):\n",
    "        print(f'{val1} * {val2} = {val1 * val2}')\n",
    "        return val1 * val2\n",
    "    else :\n",
    "        print ('use correct operator')"
   ]
  },
  {
   "cell_type": "code",
   "execution_count": 25,
   "id": "f6f5c83a",
   "metadata": {},
   "outputs": [
    {
     "name": "stdout",
     "output_type": "stream",
     "text": [
      "12 * 13 = 156\n",
      "result = 156\n"
     ]
    }
   ],
   "source": [
    "result = trying(12,13,'mul')\n",
    "print(f'result = {result}')"
   ]
  },
  {
   "cell_type": "markdown",
   "id": "0f92da00",
   "metadata": {},
   "source": [
    "# final Practise.we'll add,sub,mul,div,square"
   ]
  },
  {
   "cell_type": "code",
   "execution_count": 45,
   "id": "30e397fc",
   "metadata": {},
   "outputs": [],
   "source": [
    "def final_try(val1, val2, op):\n",
    "    if op == 'add':\n",
    "        print(f'{val1}+{val2} = {val1 + val2}')\n",
    "        return val1 + val2\n",
    "    elif op == 'sub':\n",
    "        print(f'{val1}-{val2} = {val1 - val2}')\n",
    "        return val1 - val2\n",
    "    elif op == 'mul':\n",
    "        print(f'{val1}*{val2} = {val1 * val2}')\n",
    "        return val1 * val2\n",
    "    elif op == 'div':\n",
    "        print(f'{val1}/{val2} = {val1 / val2}')\n",
    "        return val1 / val2\n",
    "    elif op == 'sqr':\n",
    "        print(f'{val1}**{val2} = {val1 ** val2}')\n",
    "        return val1 ** val2\n"
   ]
  },
  {
   "cell_type": "code",
   "execution_count": 48,
   "id": "4de6e3fb",
   "metadata": {},
   "outputs": [
    {
     "name": "stdout",
     "output_type": "stream",
     "text": [
      "12+13 = 25\n",
      "result1 = 25\n",
      "12-13 = -1\n",
      "result2 = -1\n",
      "12*13 = 156\n",
      "result3 = 156\n",
      "12/13 = 0.9230769230769231\n",
      "result4 = 0.9230769230769231\n",
      "12**2 = 144\n",
      "result5 = 144\n"
     ]
    }
   ],
   "source": [
    "result1 =  final_try(12,13,'add')\n",
    "print (f'result1 = {result1}')\n",
    "\n",
    "\n",
    "\n",
    "result2 =  final_try(12,13,'sub')\n",
    "print (f'result2 = {result2}')\n",
    "\n",
    "\n",
    "\n",
    "\n",
    "result3 =  final_try(12,13,'mul')\n",
    "print (f'result3 = {result3}')\n",
    "\n",
    "\n",
    "\n",
    "\n",
    "\n",
    "result4 =  final_try(12,13,'div')\n",
    "print (f'result4 = {result4}')\n",
    "\n",
    "\n",
    "\n",
    "\n",
    "result5 =  final_try(12,2,'sqr')\n",
    "print (f'result5 = {result5}')\n"
   ]
  },
  {
   "cell_type": "markdown",
   "id": "04ddf0fc",
   "metadata": {},
   "source": [
    "# task\n"
   ]
  },
  {
   "cell_type": "code",
   "execution_count": 31,
   "id": "c8ea09f5",
   "metadata": {},
   "outputs": [],
   "source": [
    "def task(val1, val2=None, operation=None, old=None, new=None, start=None, end=None, position=None):\n",
    "    if operation == 'join':\n",
    "        result = val1 + val2\n",
    "        print(f'Joined text: {result}')\n",
    "        return result\n",
    "    elif operation == 'trim':\n",
    "        result = val1.strip()\n",
    "        print(f'Trimmed text: \"{result}\"')\n",
    "        return result\n",
    "    elif operation == 'substitute':\n",
    "        if old is not None and new is not None:\n",
    "            result = val1.replace(old, new)\n",
    "            print(f'Substituted text: {result}')\n",
    "            return result\n",
    "        else:\n",
    "            print(\"Please provide 'old' and 'new' parameters for substitution.\")\n",
    "            return None\n",
    "    elif operation == 'cut':\n",
    "        if start is not None and end is not None:\n",
    "            result = val1[start:end]\n",
    "            print(f'Cut text: {result}')\n",
    "            return result\n",
    "        else:\n",
    "            print(\"Please provide 'start' and 'end' parameters for cutting.\")\n",
    "            return None\n",
    "    elif operation == 'position':\n",
    "        if position is not None and 0 <= position < len(val1):\n",
    "            result = val1[position]\n",
    "            print(f'Character at position {position}: {result}')\n",
    "            return result\n",
    "        else:\n",
    "            print(\"Please provide a valid 'position' parameter.\")\n",
    "            return None\n",
    "    else:\n",
    "        print(\"Invalid operation specified.\")\n",
    "        return None\n",
    "\n"
   ]
  },
  {
   "cell_type": "code",
   "execution_count": 32,
   "id": "62950e33",
   "metadata": {},
   "outputs": [
    {
     "name": "stdout",
     "output_type": "stream",
     "text": [
      "Joined text: helloworld\n",
      "Trimmed text: \"hello\"\n",
      "Substituted text: hello there\n",
      "Cut text: hello\n",
      "Character at position 1: e\n"
     ]
    },
    {
     "data": {
      "text/plain": [
       "'e'"
      ]
     },
     "execution_count": 32,
     "metadata": {},
     "output_type": "execute_result"
    }
   ],
   "source": [
    "task(\"hello\", \"world\", operation='join')\n",
    "task(\"   hello   \", operation='trim')\n",
    "task(\"hello world\", old=\"world\", new=\"there\", operation='substitute')\n",
    "task(\"hello world\", start=0, end=5, operation='cut')\n",
    "task(\"hello\", position=1, operation='position')\n"
   ]
  },
  {
   "cell_type": "code",
   "execution_count": null,
   "id": "5ddfc5ba",
   "metadata": {},
   "outputs": [],
   "source": []
  }
 ],
 "metadata": {
  "kernelspec": {
   "display_name": "Python 3 (ipykernel)",
   "language": "python",
   "name": "python3"
  },
  "language_info": {
   "codemirror_mode": {
    "name": "ipython",
    "version": 3
   },
   "file_extension": ".py",
   "mimetype": "text/x-python",
   "name": "python",
   "nbconvert_exporter": "python",
   "pygments_lexer": "ipython3",
   "version": "3.11.7"
  }
 },
 "nbformat": 4,
 "nbformat_minor": 5
}
