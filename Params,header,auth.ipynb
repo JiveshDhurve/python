{
 "cells": [
  {
   "cell_type": "code",
   "execution_count": null,
   "id": "257cd008",
   "metadata": {},
   "outputs": [],
   "source": []
  },
  {
   "cell_type": "code",
   "execution_count": 33,
   "id": "385b7aa1",
   "metadata": {},
   "outputs": [],
   "source": [
    "import requests as rq"
   ]
  },
  {
   "cell_type": "code",
   "execution_count": 34,
   "id": "e26681f9",
   "metadata": {},
   "outputs": [],
   "source": [
    "url = \"https://fakestoreapi.in/api/products\""
   ]
  },
  {
   "cell_type": "code",
   "execution_count": 40,
   "id": "b5931232",
   "metadata": {},
   "outputs": [],
   "source": [
    "param = {\n",
    "    \"page\":2,\n",
    "    \"limit\": 5 ,\n",
    "    \"delay\": 10\n",
    "}"
   ]
  },
  {
   "cell_type": "code",
   "execution_count": 41,
   "id": "8f8e47d1",
   "metadata": {},
   "outputs": [],
   "source": [
    "header = {'User-Agent':'Mozilla/5.0 (Linux; Android 6.0; Nexus 5 Build/MRA58N)'}"
   ]
  },
  {
   "cell_type": "code",
   "execution_count": 42,
   "id": "0573e117",
   "metadata": {},
   "outputs": [],
   "source": [
    "#Fauth = (\"username\":\"password\")"
   ]
  },
  {
   "cell_type": "code",
   "execution_count": 43,
   "id": "27fb7e29",
   "metadata": {},
   "outputs": [],
   "source": [
    "fetch = rq.get(url,params = param,headers = header)"
   ]
  },
  {
   "cell_type": "code",
   "execution_count": 44,
   "id": "f6e9f346",
   "metadata": {},
   "outputs": [
    {
     "data": {
      "text/plain": [
       "<Response [200]>"
      ]
     },
     "execution_count": 44,
     "metadata": {},
     "output_type": "execute_result"
    }
   ],
   "source": [
    "fetch"
   ]
  },
  {
   "cell_type": "code",
   "execution_count": 45,
   "id": "ed951b41",
   "metadata": {},
   "outputs": [
    {
     "data": {
      "text/plain": [
       "{'status': 'SUCCESS',\n",
       " 'message': \"Here you go! You've received 5 \\n      products. If you need more, just ask for it\",\n",
       " 'products': [{'id': 6,\n",
       "   'title': 'Xiaomi Wired in-Ear Earphones with Mic, Ultra Deep Bass & Metal Sound Chamber (Blue)',\n",
       "   'image': 'https://storage.googleapis.com/fir-auth-1c3bc.appspot.com/1691057474498-earphone.jpg',\n",
       "   'price': 5,\n",
       "   'description': 'Ergonomically angled to fit perfectly in your ear canal that provides long lasting comfort for every day usage.\\r\\nFeatures 1.25 meter long cable & L-shaped 3.5mm jack to connect with your phone. Due to the L-shape, the connector will deliver a strong & durable life. Earphones are compatible with Android, iOS & Windows devices with jack.\\r\\nPowerful 10 mm drivers & aluminum sound chamber for super extra bass and clear sound for the best music & calling experience.\\r\\nHigh-quality silicone earbuds, which are gentle on skin without compromising the comfortable fit on the ears.\\r\\nIn-line microphone with a durable multi-function button to play/pause your music, and answer/end your calls, all with just one tap.',\n",
       "   'brand': 'xiaomi',\n",
       "   'model': 'Mi Earphones Basic Blue',\n",
       "   'color': 'Blue',\n",
       "   'category': 'audio'},\n",
       "  {'id': 7,\n",
       "   'title': 'boAt Rockerz 370 On Ear Bluetooth Headphones with Upto 12 Hours Playtime, Cozy Padded Earcups and Bluetooth v5.0, with Mic (Buoyant Black)',\n",
       "   'image': 'https://storage.googleapis.com/fir-auth-1c3bc.appspot.com/1691057718636-headphone5.jpg',\n",
       "   'price': 12,\n",
       "   'description': 'Rockerz 370 come equipped with latest Bluetooth v5.0 for instant wireless connectivity\\r\\nThe powerful 300mAh battery provides up to 8 Hours of audio bliss\\r\\n40mm Dynamic Drivers supply immersive High Definition sound\\r\\nThe headset has padded earcups for a comfortable experience\\r\\nThe headphone has been ergonomically and aesthetically designed for a seamless experience\\r\\nOne can connect to Rockerz 370 via dual modes for connectivity in the form of Bluetooth and AUX\\r\\n1 year warranty from the date of purchase.',\n",
       "   'brand': 'boat',\n",
       "   'model': 'Rockerz 370',\n",
       "   'color': 'Black',\n",
       "   'category': 'audio'},\n",
       "  {'id': 8,\n",
       "   'title': 'Samsung Galaxy S21 FE 5G (Lavender, 8GB, 128GB Storage)',\n",
       "   'image': 'https://storage.googleapis.com/fir-auth-1c3bc.appspot.com/1691073671025-galaxy S21 FE.jpg',\n",
       "   'price': 434,\n",
       "   'description': 'Pro-grade Camera with AI Single Take, Portrait Mode, Night Mode and 30X Space zoom. Dual Recording: Film in both wide and selfie angles at the same time | 12MP F1.8 Main Camera (Dual Pixel AF & OIS) + 12MP UltraWide Camera (123° FOV) + 8MP Telephoto Camera (3x Optic Zoom, 30X Space Zoom, OIS) | 32 MP F2.2 Front Camera.\\r\\n16.28cm (6.4-inch) Dynamic AMOLED 2X Display with120Hz Refresh rate for Smooth scrolling. Intelligent Eye Comfort Shield, New 19.5:9 Screen Ratio with thinner bezel, 1080x2340 (FHD+) Resolution.\\r\\n5G Ready with Octa-core Exynos 2100 (5nm) Processor. Android 12 operating system. Dual Sim.\\r\\nIconic Contour Cut Design with 7.9 mm thickness. Gorilla Glass Victus and IP68 Water Resistant .',\n",
       "   'brand': 'samsung',\n",
       "   'model': 'Samsung Galaxy S21 FE 5G (Lavender, 8GB, 128GB Storage)',\n",
       "   'color': 'Lavender',\n",
       "   'category': 'mobile',\n",
       "   'discount': 9,\n",
       "   'onSale': True},\n",
       "  {'id': 9,\n",
       "   'title': 'Amkette EvoFox Elite Ops Wireless Gamepad for Android TV | Google TV | 8+ Hours of Play Time | Zero Lag Connectivity Upto 12 Feets | USB Extender for TV Included | - Dusk Grey',\n",
       "   'image': 'https://storage.googleapis.com/fir-auth-1c3bc.appspot.com/1694100438525-51Prg4Smx-L._SL1500_.jpg',\n",
       "   'price': 18,\n",
       "   'description': 'The EvoFox Elite Ops Wireless Gamepad with Type C Charging is the ideal Android TV Gamepad. With all Android TVs supporting at least basic Gaming, a Gamepad at home is a must. Use the provided USB Extender Cable on your TV to ensure optimal wireless performance.\\r\\nThis Wireless Controller also supports Windows with X input and D input modes, and PS3s. It automatically detects and changes the gamepad mode based on your system. Simply Plug and Play!\\r\\nThe Elite Ops features Digital Triggers (not Analog), Accurate 360 degree concave thumbsticks, a Precise 8 way floating D-Pad. The gamepad also features dual rumble Vibration motors (for PC and PS3 only) and an easy to use Turbo Mode.\\r\\nThe gamepad comes with a Type C charging port and the 400mAh Rechargeable battery ensures 8 hours of non stop gameplay. The ergonomic and robust design with anti-sweat matte finish makes it easy on your hands, but tough on your enemies.',\n",
       "   'brand': 'Amkette',\n",
       "   'model': 'Woburn II Bluetooth',\n",
       "   'color': 'gray',\n",
       "   'category': 'gaming',\n",
       "   'discount': 3},\n",
       "  {'id': 10,\n",
       "   'title': 'Samsung Galaxy S22 5G (Phantom White, 8GB RAM, 128GB Storage) with No Cost EMI/Additional Exchange Offers',\n",
       "   'image': 'https://storage.googleapis.com/fir-auth-1c3bc.appspot.com/1691074519203-galaxy S22 5G.jpg',\n",
       "   'price': 760,\n",
       "   'description': 'Pro-grade Camera that lets you make your nights epic with Nightography: It’s our brightest innovation yet. The sensor pulls in more light, the Super Clear Glass dials down lens flare, and fast-acting AI delivers near-instant intelligent processing.\\r\\nVisionBooster outshines the sun: Stunning 120Hz Dynamic AMOLED 2X display is crafted specifically for high outdoor visibility, keeping the view clear in bright daylight.\\r\\n4nm processor, our fastest chip yet: Our fastest, most powerful chip ever. That means, a faster CPU and GPU compared to Galaxy S21 Ultra. It’s an epic leap for smartphone technology.\\r\\nSleek design in a range of colors lets you express yourself how you like. The slim bezels flow into a symmetrical polished frame for an expansive, balanced display. Corning Gorilla Glass Victus+ on the screen and back panels.',\n",
       "   'brand': 'samsung',\n",
       "   'model': 'Samsung Galaxy S22 5G',\n",
       "   'color': 'White',\n",
       "   'category': 'mobile',\n",
       "   'discount': 29}]}"
      ]
     },
     "execution_count": 45,
     "metadata": {},
     "output_type": "execute_result"
    }
   ],
   "source": [
    "fetch.json()"
   ]
  },
  {
   "cell_type": "code",
   "execution_count": 70,
   "id": "bd7b851f",
   "metadata": {},
   "outputs": [],
   "source": [
    "aurl = \"https://randomuser.me/api/1.3/\""
   ]
  },
  {
   "cell_type": "code",
   "execution_count": 71,
   "id": "e6956eb2",
   "metadata": {},
   "outputs": [],
   "source": [
    "aAuth = (\"anyUsername\",\"anyPassword\")"
   ]
  },
  {
   "cell_type": "code",
   "execution_count": 72,
   "id": "84767da8",
   "metadata": {},
   "outputs": [],
   "source": [
    "fetch = rq.get(aurl,auth = aAuth)"
   ]
  },
  {
   "cell_type": "code",
   "execution_count": 73,
   "id": "fd8f706f",
   "metadata": {},
   "outputs": [
    {
     "data": {
      "text/plain": [
       "200"
      ]
     },
     "execution_count": 73,
     "metadata": {},
     "output_type": "execute_result"
    }
   ],
   "source": [
    "fetch.status_code"
   ]
  },
  {
   "cell_type": "code",
   "execution_count": 74,
   "id": "e7b5f6f4",
   "metadata": {},
   "outputs": [
    {
     "data": {
      "text/plain": [
       "{'results': [{'gender': 'male',\n",
       "   'name': {'title': 'Mr', 'first': 'Otto', 'last': 'Schlüter'},\n",
       "   'location': {'street': {'number': 6677, 'name': 'Mittelweg'},\n",
       "    'city': 'Korntal-Münchingen',\n",
       "    'state': 'Mecklenburg-Vorpommern',\n",
       "    'country': 'Germany',\n",
       "    'postcode': 10828,\n",
       "    'coordinates': {'latitude': '-45.1272', 'longitude': '-89.4073'},\n",
       "    'timezone': {'offset': '0:00',\n",
       "     'description': 'Western Europe Time, London, Lisbon, Casablanca'}},\n",
       "   'email': 'otto.schluter@example.com',\n",
       "   'login': {'uuid': 'bc7aa770-9a40-40d9-8566-d017fd61def2',\n",
       "    'username': 'greengoose882',\n",
       "    'password': 'fishhead',\n",
       "    'salt': 'JPtbd2JH',\n",
       "    'md5': 'd29de63a8ed0478d8f843e85b1071238',\n",
       "    'sha1': '3e5c06bbad315ce1d33997b323cb1cc730a383e3',\n",
       "    'sha256': '2b65967430e20ffb50b4d9da519b1d86b25c6d930423213896622e9008b0e2c1'},\n",
       "   'dob': {'date': '1947-04-28T15:16:18.722Z', 'age': 77},\n",
       "   'registered': {'date': '2003-06-02T03:28:39.114Z', 'age': 21},\n",
       "   'phone': '0984-1899100',\n",
       "   'cell': '0174-3441500',\n",
       "   'id': {'name': '', 'value': None},\n",
       "   'picture': {'large': 'https://randomuser.me/api/portraits/men/48.jpg',\n",
       "    'medium': 'https://randomuser.me/api/portraits/med/men/48.jpg',\n",
       "    'thumbnail': 'https://randomuser.me/api/portraits/thumb/men/48.jpg'},\n",
       "   'nat': 'DE'}],\n",
       " 'info': {'seed': '70379f0449477771',\n",
       "  'results': 1,\n",
       "  'page': 1,\n",
       "  'version': '1.3'}}"
      ]
     },
     "execution_count": 74,
     "metadata": {},
     "output_type": "execute_result"
    }
   ],
   "source": [
    "fetch.json()"
   ]
  },
  {
   "cell_type": "code",
   "execution_count": null,
   "id": "964fb14f",
   "metadata": {},
   "outputs": [],
   "source": []
  }
 ],
 "metadata": {
  "kernelspec": {
   "display_name": "Python 3 (ipykernel)",
   "language": "python",
   "name": "python3"
  },
  "language_info": {
   "codemirror_mode": {
    "name": "ipython",
    "version": 3
   },
   "file_extension": ".py",
   "mimetype": "text/x-python",
   "name": "python",
   "nbconvert_exporter": "python",
   "pygments_lexer": "ipython3",
   "version": "3.11.7"
  }
 },
 "nbformat": 4,
 "nbformat_minor": 5
}
